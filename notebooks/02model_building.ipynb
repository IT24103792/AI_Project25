{
 "cells": [
  {
   "cell_type": "code",
   "execution_count": 1,
   "id": "7b22169a-6f63-4b21-9099-8dafaf507e83",
   "metadata": {},
   "outputs": [
    {
     "name": "stdout",
     "output_type": "stream",
     "text": [
      "Requirement already satisfied: numpy in /opt/anaconda3/lib/python3.12/site-packages (1.26.4)\n",
      "Requirement already satisfied: pandas in /opt/anaconda3/lib/python3.12/site-packages (2.2.2)\n",
      "Requirement already satisfied: matplotlib in /opt/anaconda3/lib/python3.12/site-packages (3.9.2)\n",
      "Requirement already satisfied: python-dateutil>=2.8.2 in /opt/anaconda3/lib/python3.12/site-packages (from pandas) (2.9.0.post0)\n",
      "Requirement already satisfied: pytz>=2020.1 in /opt/anaconda3/lib/python3.12/site-packages (from pandas) (2024.1)\n",
      "Requirement already satisfied: tzdata>=2022.7 in /opt/anaconda3/lib/python3.12/site-packages (from pandas) (2023.3)\n",
      "Requirement already satisfied: contourpy>=1.0.1 in /opt/anaconda3/lib/python3.12/site-packages (from matplotlib) (1.2.0)\n",
      "Requirement already satisfied: cycler>=0.10 in /opt/anaconda3/lib/python3.12/site-packages (from matplotlib) (0.11.0)\n",
      "Requirement already satisfied: fonttools>=4.22.0 in /opt/anaconda3/lib/python3.12/site-packages (from matplotlib) (4.51.0)\n",
      "Requirement already satisfied: kiwisolver>=1.3.1 in /opt/anaconda3/lib/python3.12/site-packages (from matplotlib) (1.4.4)\n",
      "Requirement already satisfied: packaging>=20.0 in /opt/anaconda3/lib/python3.12/site-packages (from matplotlib) (24.1)\n",
      "Requirement already satisfied: pillow>=8 in /opt/anaconda3/lib/python3.12/site-packages (from matplotlib) (10.4.0)\n",
      "Requirement already satisfied: pyparsing>=2.3.1 in /opt/anaconda3/lib/python3.12/site-packages (from matplotlib) (3.1.2)\n",
      "Requirement already satisfied: six>=1.5 in /opt/anaconda3/lib/python3.12/site-packages (from python-dateutil>=2.8.2->pandas) (1.16.0)\n",
      "Note: you may need to restart the kernel to use updated packages.\n"
     ]
    }
   ],
   "source": [
    "pip install numpy pandas matplotlib"
   ]
  },
  {
   "cell_type": "code",
   "execution_count": 2,
   "id": "fe39f535-1a48-4526-8580-4c074d1a6c00",
   "metadata": {},
   "outputs": [],
   "source": [
    "import numpy as np\n",
    "import pandas as pd\n",
    "import matplotlib.pyplot as plt"
   ]
  },
  {
   "cell_type": "code",
   "execution_count": 3,
   "id": "b2eaffc5-df8f-4995-aae7-3eab037b01a0",
   "metadata": {},
   "outputs": [],
   "source": [
    "data = pd.read_csv('../artifacts/train.csv')"
   ]
  },
  {
   "cell_type": "code",
   "execution_count": 4,
   "id": "cd607b8a-101d-4b22-b810-339bc89ba6ee",
   "metadata": {},
   "outputs": [
    {
     "data": {
      "text/html": [
       "<div>\n",
       "<style scoped>\n",
       "    .dataframe tbody tr th:only-of-type {\n",
       "        vertical-align: middle;\n",
       "    }\n",
       "\n",
       "    .dataframe tbody tr th {\n",
       "        vertical-align: top;\n",
       "    }\n",
       "\n",
       "    .dataframe thead th {\n",
       "        text-align: right;\n",
       "    }\n",
       "</style>\n",
       "<table border=\"1\" class=\"dataframe\">\n",
       "  <thead>\n",
       "    <tr style=\"text-align: right;\">\n",
       "      <th></th>\n",
       "      <th>id</th>\n",
       "      <th>title</th>\n",
       "      <th>author</th>\n",
       "      <th>text</th>\n",
       "      <th>label</th>\n",
       "    </tr>\n",
       "  </thead>\n",
       "  <tbody>\n",
       "    <tr>\n",
       "      <th>0</th>\n",
       "      <td>0</td>\n",
       "      <td>House Dem Aide: We Didn’t Even See Comey’s Let...</td>\n",
       "      <td>Darrell Lucus</td>\n",
       "      <td>House Dem Aide: We Didn’t Even See Comey’s Let...</td>\n",
       "      <td>1</td>\n",
       "    </tr>\n",
       "    <tr>\n",
       "      <th>1</th>\n",
       "      <td>1</td>\n",
       "      <td>FLYNN: Hillary Clinton, Big Woman on Campus - ...</td>\n",
       "      <td>Daniel J. Flynn</td>\n",
       "      <td>Ever get the feeling your life circles the rou...</td>\n",
       "      <td>0</td>\n",
       "    </tr>\n",
       "    <tr>\n",
       "      <th>2</th>\n",
       "      <td>2</td>\n",
       "      <td>Why the Truth Might Get You Fired</td>\n",
       "      <td>Consortiumnews.com</td>\n",
       "      <td>Why the Truth Might Get You Fired October 29, ...</td>\n",
       "      <td>1</td>\n",
       "    </tr>\n",
       "    <tr>\n",
       "      <th>3</th>\n",
       "      <td>3</td>\n",
       "      <td>15 Civilians Killed In Single US Airstrike Hav...</td>\n",
       "      <td>Jessica Purkiss</td>\n",
       "      <td>Videos 15 Civilians Killed In Single US Airstr...</td>\n",
       "      <td>1</td>\n",
       "    </tr>\n",
       "    <tr>\n",
       "      <th>4</th>\n",
       "      <td>4</td>\n",
       "      <td>Iranian woman jailed for fictional unpublished...</td>\n",
       "      <td>Howard Portnoy</td>\n",
       "      <td>Print \\nAn Iranian woman has been sentenced to...</td>\n",
       "      <td>1</td>\n",
       "    </tr>\n",
       "  </tbody>\n",
       "</table>\n",
       "</div>"
      ],
      "text/plain": [
       "   id                                              title              author  \\\n",
       "0   0  House Dem Aide: We Didn’t Even See Comey’s Let...       Darrell Lucus   \n",
       "1   1  FLYNN: Hillary Clinton, Big Woman on Campus - ...     Daniel J. Flynn   \n",
       "2   2                  Why the Truth Might Get You Fired  Consortiumnews.com   \n",
       "3   3  15 Civilians Killed In Single US Airstrike Hav...     Jessica Purkiss   \n",
       "4   4  Iranian woman jailed for fictional unpublished...      Howard Portnoy   \n",
       "\n",
       "                                                text  label  \n",
       "0  House Dem Aide: We Didn’t Even See Comey’s Let...      1  \n",
       "1  Ever get the feeling your life circles the rou...      0  \n",
       "2  Why the Truth Might Get You Fired October 29, ...      1  \n",
       "3  Videos 15 Civilians Killed In Single US Airstr...      1  \n",
       "4  Print \\nAn Iranian woman has been sentenced to...      1  "
      ]
     },
     "execution_count": 4,
     "metadata": {},
     "output_type": "execute_result"
    }
   ],
   "source": [
    "data.head()"
   ]
  },
  {
   "cell_type": "markdown",
   "id": "0dc54689-7bf6-4c9b-93a2-b45c43f321b1",
   "metadata": {},
   "source": [
    "## Data Preprocessing"
   ]
  },
  {
   "cell_type": "code",
   "execution_count": 6,
   "id": "69742fb8-999c-4e84-8318-fad24dd40984",
   "metadata": {},
   "outputs": [
    {
     "data": {
      "text/plain": [
       "(20800, 5)"
      ]
     },
     "execution_count": 6,
     "metadata": {},
     "output_type": "execute_result"
    }
   ],
   "source": [
    "data.shape"
   ]
  },
  {
   "cell_type": "code",
   "execution_count": 7,
   "id": "48a3645b-0766-47a8-a691-37e860438c18",
   "metadata": {},
   "outputs": [
    {
     "data": {
      "text/plain": [
       "0"
      ]
     },
     "execution_count": 7,
     "metadata": {},
     "output_type": "execute_result"
    }
   ],
   "source": [
    "data.duplicated().sum()"
   ]
  },
  {
   "cell_type": "code",
   "execution_count": 8,
   "id": "18aae5af-86ab-47dd-9263-e6e815b67761",
   "metadata": {},
   "outputs": [
    {
     "data": {
      "text/plain": [
       "id           0\n",
       "title      558\n",
       "author    1957\n",
       "text        39\n",
       "label        0\n",
       "dtype: int64"
      ]
     },
     "execution_count": 8,
     "metadata": {},
     "output_type": "execute_result"
    }
   ],
   "source": [
    "data.isnull().sum()"
   ]
  },
  {
   "cell_type": "markdown",
   "id": "ff067d94-342d-4a5a-a015-bc5ff2b206a6",
   "metadata": {},
   "source": [
    "### Text Preprocessing"
   ]
  },
  {
   "cell_type": "code",
   "execution_count": 10,
   "id": "f865b244-18cf-4010-a639-e254872816b1",
   "metadata": {},
   "outputs": [],
   "source": [
    "import re\n",
    "import string"
   ]
  },
  {
   "cell_type": "markdown",
   "id": "66148e54-d1a3-4eb9-9b8f-f8bc85102801",
   "metadata": {},
   "source": [
    "Convert uppercase to lowercase"
   ]
  },
  {
   "cell_type": "code",
   "execution_count": 12,
   "id": "dd55b530-fda0-468a-90a2-c8e3f42db135",
   "metadata": {},
   "outputs": [],
   "source": [
    "data[\"text\"] = data[\"text\"].fillna(\"\").apply(\n",
    "    lambda x: \" \".join(x.lower() for x in str(x).split())\n",
    ")\n"
   ]
  },
  {
   "cell_type": "code",
   "execution_count": 13,
   "id": "1bede2fa-4c75-46b2-bb7b-c6d706463320",
   "metadata": {},
   "outputs": [
    {
     "data": {
      "text/html": [
       "<div>\n",
       "<style scoped>\n",
       "    .dataframe tbody tr th:only-of-type {\n",
       "        vertical-align: middle;\n",
       "    }\n",
       "\n",
       "    .dataframe tbody tr th {\n",
       "        vertical-align: top;\n",
       "    }\n",
       "\n",
       "    .dataframe thead th {\n",
       "        text-align: right;\n",
       "    }\n",
       "</style>\n",
       "<table border=\"1\" class=\"dataframe\">\n",
       "  <thead>\n",
       "    <tr style=\"text-align: right;\">\n",
       "      <th></th>\n",
       "      <th>id</th>\n",
       "      <th>title</th>\n",
       "      <th>author</th>\n",
       "      <th>text</th>\n",
       "      <th>label</th>\n",
       "    </tr>\n",
       "  </thead>\n",
       "  <tbody>\n",
       "    <tr>\n",
       "      <th>0</th>\n",
       "      <td>0</td>\n",
       "      <td>House Dem Aide: We Didn’t Even See Comey’s Let...</td>\n",
       "      <td>Darrell Lucus</td>\n",
       "      <td>house dem aide: we didn’t even see comey’s let...</td>\n",
       "      <td>1</td>\n",
       "    </tr>\n",
       "    <tr>\n",
       "      <th>1</th>\n",
       "      <td>1</td>\n",
       "      <td>FLYNN: Hillary Clinton, Big Woman on Campus - ...</td>\n",
       "      <td>Daniel J. Flynn</td>\n",
       "      <td>ever get the feeling your life circles the rou...</td>\n",
       "      <td>0</td>\n",
       "    </tr>\n",
       "    <tr>\n",
       "      <th>2</th>\n",
       "      <td>2</td>\n",
       "      <td>Why the Truth Might Get You Fired</td>\n",
       "      <td>Consortiumnews.com</td>\n",
       "      <td>why the truth might get you fired october 29, ...</td>\n",
       "      <td>1</td>\n",
       "    </tr>\n",
       "    <tr>\n",
       "      <th>3</th>\n",
       "      <td>3</td>\n",
       "      <td>15 Civilians Killed In Single US Airstrike Hav...</td>\n",
       "      <td>Jessica Purkiss</td>\n",
       "      <td>videos 15 civilians killed in single us airstr...</td>\n",
       "      <td>1</td>\n",
       "    </tr>\n",
       "    <tr>\n",
       "      <th>4</th>\n",
       "      <td>4</td>\n",
       "      <td>Iranian woman jailed for fictional unpublished...</td>\n",
       "      <td>Howard Portnoy</td>\n",
       "      <td>print an iranian woman has been sentenced to s...</td>\n",
       "      <td>1</td>\n",
       "    </tr>\n",
       "  </tbody>\n",
       "</table>\n",
       "</div>"
      ],
      "text/plain": [
       "   id                                              title              author  \\\n",
       "0   0  House Dem Aide: We Didn’t Even See Comey’s Let...       Darrell Lucus   \n",
       "1   1  FLYNN: Hillary Clinton, Big Woman on Campus - ...     Daniel J. Flynn   \n",
       "2   2                  Why the Truth Might Get You Fired  Consortiumnews.com   \n",
       "3   3  15 Civilians Killed In Single US Airstrike Hav...     Jessica Purkiss   \n",
       "4   4  Iranian woman jailed for fictional unpublished...      Howard Portnoy   \n",
       "\n",
       "                                                text  label  \n",
       "0  house dem aide: we didn’t even see comey’s let...      1  \n",
       "1  ever get the feeling your life circles the rou...      0  \n",
       "2  why the truth might get you fired october 29, ...      1  \n",
       "3  videos 15 civilians killed in single us airstr...      1  \n",
       "4  print an iranian woman has been sentenced to s...      1  "
      ]
     },
     "execution_count": 13,
     "metadata": {},
     "output_type": "execute_result"
    }
   ],
   "source": [
    "data.head(5)"
   ]
  },
  {
   "cell_type": "code",
   "execution_count": 14,
   "id": "21a30cce-d9dd-422a-b26d-a87c05d9d027",
   "metadata": {},
   "outputs": [],
   "source": [
    "data[\"title\"] = data[\"title\"].fillna(\"\").apply(\n",
    "    lambda x: \" \".join(x.lower() for x in str(x).split())\n",
    ")"
   ]
  },
  {
   "cell_type": "code",
   "execution_count": 15,
   "id": "2e6dabdc-431c-4f93-be13-fe6af9cf2507",
   "metadata": {},
   "outputs": [
    {
     "data": {
      "text/plain": [
       "0    house dem aide: we didn’t even see comey’s let...\n",
       "1    flynn: hillary clinton, big woman on campus - ...\n",
       "2                    why the truth might get you fired\n",
       "3    15 civilians killed in single us airstrike hav...\n",
       "4    iranian woman jailed for fictional unpublished...\n",
       "Name: title, dtype: object"
      ]
     },
     "execution_count": 15,
     "metadata": {},
     "output_type": "execute_result"
    }
   ],
   "source": [
    "data[\"title\"].head(5)"
   ]
  },
  {
   "cell_type": "markdown",
   "id": "2ad4b02e-916c-4d3d-a555-d28354b0180b",
   "metadata": {},
   "source": [
    "Remove links"
   ]
  },
  {
   "cell_type": "code",
   "execution_count": 17,
   "id": "c08ed013-1088-412c-a737-87f353d12e92",
   "metadata": {},
   "outputs": [],
   "source": [
    "data[\"text\"] = data[\"text\"].apply(lambda x: \" \".join(re.sub(r'^https?:\\/\\/.*[\\r\\n]*', '', x, flags=re.MULTILINE) for x in x.split()))"
   ]
  },
  {
   "cell_type": "code",
   "execution_count": 18,
   "id": "cbcd37f0-bed1-4866-bf02-a6d2c1425de8",
   "metadata": {},
   "outputs": [],
   "source": [
    "data[\"title\"] = data[\"title\"].apply(lambda x: \" \".join(re.sub(r'^https?:\\/\\/.*[\\r\\n]*', '', x, flags=re.MULTILINE) for x in x.split()))"
   ]
  },
  {
   "cell_type": "markdown",
   "id": "be0cfb4c-eef3-4966-a76e-b1baae52f57a",
   "metadata": {},
   "source": [
    "data[\"text\"].tail(5)"
   ]
  },
  {
   "cell_type": "raw",
   "id": "75af26f0-6177-4519-bb97-0a7f03952acc",
   "metadata": {},
   "source": [
    "data[\"text\"] = data[\"text\"].apply(\n",
    "    lambda x: x.translate(str.maketrans('', '', string.punctuation))\n",
    ")\n",
    "data[\"title\"] = data[\"title\"].apply(\n",
    "    lambda x: x.translate(str.maketrans('', '', string.punctuation))\n",
    ")"
   ]
  },
  {
   "cell_type": "code",
   "execution_count": 20,
   "id": "5254ffec-69f9-4740-ac7f-c06d38dadbdd",
   "metadata": {},
   "outputs": [
    {
     "data": {
      "text/plain": [
       "20795    rapper t. i. unloaded on black celebrities who...\n",
       "20796    when the green bay packers lost to the washing...\n",
       "20797    the macy’s of today grew from the union of sev...\n",
       "20798    nato, russia to hold parallel exercises in bal...\n",
       "20799    david swanson is an author, activist, journali...\n",
       "Name: text, dtype: object"
      ]
     },
     "execution_count": 20,
     "metadata": {},
     "output_type": "execute_result"
    }
   ],
   "source": [
    "data[\"text\"].tail(5)"
   ]
  },
  {
   "cell_type": "code",
   "execution_count": 21,
   "id": "6b91c9bd-d367-48bf-9621-f720addcce34",
   "metadata": {},
   "outputs": [],
   "source": [
    "data[\"text\"] = data[\"text\"].apply(\n",
    "    lambda x: re.sub(r'\\d+', '', x)\n",
    ")\n",
    "data[\"title\"] = data[\"title\"].apply(\n",
    "    lambda x: re.sub(r'\\d+', '', x)\n",
    ")"
   ]
  },
  {
   "cell_type": "markdown",
   "id": "c68e0e72-7a70-45b2-95f9-89a1098af0c7",
   "metadata": {},
   "source": [
    "Remove Stopwords"
   ]
  },
  {
   "cell_type": "code",
   "execution_count": 23,
   "id": "ad198722-55ed-422a-b377-504fd7104d94",
   "metadata": {},
   "outputs": [
    {
     "name": "stdout",
     "output_type": "stream",
     "text": [
      "Requirement already satisfied: nltk in /opt/anaconda3/lib/python3.12/site-packages (3.9.1)\n",
      "Requirement already satisfied: click in /opt/anaconda3/lib/python3.12/site-packages (from nltk) (8.1.7)\n",
      "Requirement already satisfied: joblib in /opt/anaconda3/lib/python3.12/site-packages (from nltk) (1.4.2)\n",
      "Requirement already satisfied: regex>=2021.8.3 in /opt/anaconda3/lib/python3.12/site-packages (from nltk) (2024.9.11)\n",
      "Requirement already satisfied: tqdm in /opt/anaconda3/lib/python3.12/site-packages (from nltk) (4.66.5)\n",
      "Note: you may need to restart the kernel to use updated packages.\n"
     ]
    }
   ],
   "source": [
    "pip install nltk"
   ]
  },
  {
   "cell_type": "code",
   "execution_count": 24,
   "id": "68caa9f0-0f8a-477b-881a-078b69e2f88d",
   "metadata": {},
   "outputs": [],
   "source": [
    "import nltk"
   ]
  },
  {
   "cell_type": "code",
   "execution_count": 25,
   "id": "dc7a08f4-ea17-4a21-94c2-465207f06899",
   "metadata": {},
   "outputs": [
    {
     "name": "stderr",
     "output_type": "stream",
     "text": [
      "[nltk_data] Downloading package stopwords to ../static/model...\n",
      "[nltk_data]   Unzipping corpora/stopwords.zip.\n"
     ]
    },
    {
     "data": {
      "text/plain": [
       "True"
      ]
     },
     "execution_count": 25,
     "metadata": {},
     "output_type": "execute_result"
    }
   ],
   "source": [
    "nltk.download('stopwords', download_dir='../static/model')"
   ]
  },
  {
   "cell_type": "code",
   "execution_count": 26,
   "id": "47e203b6-7dcc-4965-bb35-d23d4df51875",
   "metadata": {},
   "outputs": [],
   "source": [
    "with open('../static/model/corpora/stopwords/english', 'r') as file:\n",
    "    sw = file.read().splitlines()"
   ]
  },
  {
   "cell_type": "code",
   "execution_count": 27,
   "id": "698c36ee-272c-4477-9d3c-51b508c62e15",
   "metadata": {},
   "outputs": [
    {
     "data": {
      "text/plain": [
       "['a',\n",
       " 'about',\n",
       " 'above',\n",
       " 'after',\n",
       " 'again',\n",
       " 'against',\n",
       " 'ain',\n",
       " 'all',\n",
       " 'am',\n",
       " 'an',\n",
       " 'and',\n",
       " 'any',\n",
       " 'are',\n",
       " 'aren',\n",
       " \"aren't\",\n",
       " 'as',\n",
       " 'at',\n",
       " 'be',\n",
       " 'because',\n",
       " 'been',\n",
       " 'before',\n",
       " 'being',\n",
       " 'below',\n",
       " 'between',\n",
       " 'both',\n",
       " 'but',\n",
       " 'by',\n",
       " 'can',\n",
       " 'couldn',\n",
       " \"couldn't\",\n",
       " 'd',\n",
       " 'did',\n",
       " 'didn',\n",
       " \"didn't\",\n",
       " 'do',\n",
       " 'does',\n",
       " 'doesn',\n",
       " \"doesn't\",\n",
       " 'doing',\n",
       " 'don',\n",
       " \"don't\",\n",
       " 'down',\n",
       " 'during',\n",
       " 'each',\n",
       " 'few',\n",
       " 'for',\n",
       " 'from',\n",
       " 'further',\n",
       " 'had',\n",
       " 'hadn',\n",
       " \"hadn't\",\n",
       " 'has',\n",
       " 'hasn',\n",
       " \"hasn't\",\n",
       " 'have',\n",
       " 'haven',\n",
       " \"haven't\",\n",
       " 'having',\n",
       " 'he',\n",
       " \"he'd\",\n",
       " \"he'll\",\n",
       " 'her',\n",
       " 'here',\n",
       " 'hers',\n",
       " 'herself',\n",
       " \"he's\",\n",
       " 'him',\n",
       " 'himself',\n",
       " 'his',\n",
       " 'how',\n",
       " 'i',\n",
       " \"i'd\",\n",
       " 'if',\n",
       " \"i'll\",\n",
       " \"i'm\",\n",
       " 'in',\n",
       " 'into',\n",
       " 'is',\n",
       " 'isn',\n",
       " \"isn't\",\n",
       " 'it',\n",
       " \"it'd\",\n",
       " \"it'll\",\n",
       " \"it's\",\n",
       " 'its',\n",
       " 'itself',\n",
       " \"i've\",\n",
       " 'just',\n",
       " 'll',\n",
       " 'm',\n",
       " 'ma',\n",
       " 'me',\n",
       " 'mightn',\n",
       " \"mightn't\",\n",
       " 'more',\n",
       " 'most',\n",
       " 'mustn',\n",
       " \"mustn't\",\n",
       " 'my',\n",
       " 'myself',\n",
       " 'needn',\n",
       " \"needn't\",\n",
       " 'no',\n",
       " 'nor',\n",
       " 'not',\n",
       " 'now',\n",
       " 'o',\n",
       " 'of',\n",
       " 'off',\n",
       " 'on',\n",
       " 'once',\n",
       " 'only',\n",
       " 'or',\n",
       " 'other',\n",
       " 'our',\n",
       " 'ours',\n",
       " 'ourselves',\n",
       " 'out',\n",
       " 'over',\n",
       " 'own',\n",
       " 're',\n",
       " 's',\n",
       " 'same',\n",
       " 'shan',\n",
       " \"shan't\",\n",
       " 'she',\n",
       " \"she'd\",\n",
       " \"she'll\",\n",
       " \"she's\",\n",
       " 'should',\n",
       " 'shouldn',\n",
       " \"shouldn't\",\n",
       " \"should've\",\n",
       " 'so',\n",
       " 'some',\n",
       " 'such',\n",
       " 't',\n",
       " 'than',\n",
       " 'that',\n",
       " \"that'll\",\n",
       " 'the',\n",
       " 'their',\n",
       " 'theirs',\n",
       " 'them',\n",
       " 'themselves',\n",
       " 'then',\n",
       " 'there',\n",
       " 'these',\n",
       " 'they',\n",
       " \"they'd\",\n",
       " \"they'll\",\n",
       " \"they're\",\n",
       " \"they've\",\n",
       " 'this',\n",
       " 'those',\n",
       " 'through',\n",
       " 'to',\n",
       " 'too',\n",
       " 'under',\n",
       " 'until',\n",
       " 'up',\n",
       " 've',\n",
       " 'very',\n",
       " 'was',\n",
       " 'wasn',\n",
       " \"wasn't\",\n",
       " 'we',\n",
       " \"we'd\",\n",
       " \"we'll\",\n",
       " \"we're\",\n",
       " 'were',\n",
       " 'weren',\n",
       " \"weren't\",\n",
       " \"we've\",\n",
       " 'what',\n",
       " 'when',\n",
       " 'where',\n",
       " 'which',\n",
       " 'while',\n",
       " 'who',\n",
       " 'whom',\n",
       " 'why',\n",
       " 'will',\n",
       " 'with',\n",
       " 'won',\n",
       " \"won't\",\n",
       " 'wouldn',\n",
       " \"wouldn't\",\n",
       " 'y',\n",
       " 'you',\n",
       " \"you'd\",\n",
       " \"you'll\",\n",
       " 'your',\n",
       " \"you're\",\n",
       " 'yours',\n",
       " 'yourself',\n",
       " 'yourselves',\n",
       " \"you've\"]"
      ]
     },
     "execution_count": 27,
     "metadata": {},
     "output_type": "execute_result"
    }
   ],
   "source": [
    "sw"
   ]
  },
  {
   "cell_type": "code",
   "execution_count": 28,
   "id": "ad969e53-21e5-4010-9c6b-f5d2cc931161",
   "metadata": {},
   "outputs": [],
   "source": [
    "data[\"text\"] = data[\"text\"].apply(\n",
    "    lambda x: \" \".join(word for word in x.split() if word not in sw)\n",
    ")\n",
    "data[\"title\"] = data[\"title\"].apply(\n",
    "    lambda x: \" \".join(word for word in x.split() if word not in sw)\n",
    ")"
   ]
  },
  {
   "cell_type": "code",
   "execution_count": 29,
   "id": "18e80056-4a14-4f00-9fe4-64479d99e168",
   "metadata": {},
   "outputs": [
    {
     "data": {
      "text/plain": [
       "20795    rapper t. i. unloaded black celebrities met do...\n",
       "20796    green bay packers lost washington redskins wee...\n",
       "20797    macy’s today grew union several great names am...\n",
       "20798    nato, russia hold parallel exercises balkans /...\n",
       "20799    david swanson author, activist, journalist, ra...\n",
       "Name: text, dtype: object"
      ]
     },
     "execution_count": 29,
     "metadata": {},
     "output_type": "execute_result"
    }
   ],
   "source": [
    "data[\"text\"].tail(5)"
   ]
  },
  {
   "cell_type": "markdown",
   "id": "c6d19112-3b8a-4505-954c-829629e3c7a8",
   "metadata": {},
   "source": [
    "Stemming"
   ]
  },
  {
   "cell_type": "code",
   "execution_count": 31,
   "id": "68be65f1-f99d-4cf3-b3c9-a0e3cdf6e79a",
   "metadata": {},
   "outputs": [],
   "source": [
    "from nltk.stem import PorterStemmer\n",
    "ps = PorterStemmer()"
   ]
  },
  {
   "cell_type": "code",
   "execution_count": 32,
   "id": "bca0786c-21c1-4905-8378-426c99029357",
   "metadata": {},
   "outputs": [],
   "source": [
    "data[\"text\"] = data[\"text\"].apply(lambda x: \" \".join(ps.stem(x) for x in x.split()))\n",
    "data[\"title\"] = data[\"title\"].apply(lambda x: \" \".join(ps.stem(x) for x in x.split()))"
   ]
  },
  {
   "cell_type": "code",
   "execution_count": 33,
   "id": "89c8a1c8-bfca-4af7-b7ea-70cfe83378e3",
   "metadata": {},
   "outputs": [
    {
     "data": {
      "text/plain": [
       "20795    rapper t. i. unload black celebr met donald tr...\n",
       "20796    green bay packer lost washington redskin week ...\n",
       "20797    macy’ today grew union sever great name americ...\n",
       "20798    nato, russia hold parallel exercis balkan // p...\n",
       "20799    david swanson author, activist, journalist, ra...\n",
       "Name: text, dtype: object"
      ]
     },
     "execution_count": 33,
     "metadata": {},
     "output_type": "execute_result"
    }
   ],
   "source": [
    "data[\"text\"].tail(5)"
   ]
  },
  {
   "cell_type": "markdown",
   "id": "b0d370ba-d98c-4e58-b924-bf9b570ca7b0",
   "metadata": {},
   "source": [
    "## Building Vocabulary"
   ]
  },
  {
   "cell_type": "code",
   "execution_count": 35,
   "id": "beae8603-d8d1-4580-ab8c-f465332435fa",
   "metadata": {},
   "outputs": [],
   "source": [
    "from collections import Counter\n",
    "vocab = Counter()"
   ]
  },
  {
   "cell_type": "code",
   "execution_count": 36,
   "id": "aa4e3f1a-e57f-46de-b29b-55ce6c72879b",
   "metadata": {},
   "outputs": [
    {
     "data": {
      "text/plain": [
       "Counter()"
      ]
     },
     "execution_count": 36,
     "metadata": {},
     "output_type": "execute_result"
    }
   ],
   "source": [
    "vocab"
   ]
  },
  {
   "cell_type": "code",
   "execution_count": 37,
   "id": "a2110196-a72b-4316-b905-b25c90f5c7c2",
   "metadata": {},
   "outputs": [],
   "source": [
    "for sentence in data['text']:\n",
    "    vocab.update(sentence.split())"
   ]
  },
  {
   "cell_type": "code",
   "execution_count": 38,
   "id": "b8592469-e3b3-4b53-8630-cea6f400e3bf",
   "metadata": {},
   "outputs": [
    {
     "data": {
      "text/plain": [
       "380600"
      ]
     },
     "execution_count": 38,
     "metadata": {},
     "output_type": "execute_result"
    }
   ],
   "source": [
    "len(vocab)"
   ]
  },
  {
   "cell_type": "code",
   "execution_count": 39,
   "id": "623e086e-3d34-4dac-879d-1d37f8538220",
   "metadata": {},
   "outputs": [
    {
     "data": {
      "text/plain": [
       "(20800, 5)"
      ]
     },
     "execution_count": 39,
     "metadata": {},
     "output_type": "execute_result"
    }
   ],
   "source": [
    "data.shape"
   ]
  },
  {
   "cell_type": "code",
   "execution_count": 40,
   "id": "851c5f2c-38e3-4ea1-ac1b-130fe396b468",
   "metadata": {},
   "outputs": [],
   "source": [
    "tokens = [key for key in vocab if vocab[key] > 60]"
   ]
  },
  {
   "cell_type": "code",
   "execution_count": 41,
   "id": "ac5ef5e3-8918-4e14-b145-718e380a7cf1",
   "metadata": {},
   "outputs": [
    {
     "data": {
      "text/plain": [
       "13074"
      ]
     },
     "execution_count": 41,
     "metadata": {},
     "output_type": "execute_result"
    }
   ],
   "source": [
    "len(tokens)"
   ]
  },
  {
   "cell_type": "code",
   "execution_count": 42,
   "id": "8f00afcf-2f24-4619-b074-4f82244a0a12",
   "metadata": {},
   "outputs": [],
   "source": [
    "def save_vocabulary(lines, filename):\n",
    "    data = '\\n'.join(lines)\n",
    "    file = open(filename, 'w', encoding=\"utf-8\")\n",
    "    file.write(data)\n",
    "    file.close()\n",
    "\n",
    "save_vocabulary(tokens, '../static/model/vocabulary.txt')"
   ]
  },
  {
   "cell_type": "markdown",
   "id": "59050136-4f32-4a75-a5e8-eebe310b69f9",
   "metadata": {},
   "source": [
    "## Divide Dataset"
   ]
  },
  {
   "cell_type": "code",
   "execution_count": 44,
   "id": "b7ec2281-af83-4553-ab24-0b74c24a1461",
   "metadata": {},
   "outputs": [
    {
     "data": {
      "text/html": [
       "<div>\n",
       "<style scoped>\n",
       "    .dataframe tbody tr th:only-of-type {\n",
       "        vertical-align: middle;\n",
       "    }\n",
       "\n",
       "    .dataframe tbody tr th {\n",
       "        vertical-align: top;\n",
       "    }\n",
       "\n",
       "    .dataframe thead th {\n",
       "        text-align: right;\n",
       "    }\n",
       "</style>\n",
       "<table border=\"1\" class=\"dataframe\">\n",
       "  <thead>\n",
       "    <tr style=\"text-align: right;\">\n",
       "      <th></th>\n",
       "      <th>id</th>\n",
       "      <th>title</th>\n",
       "      <th>author</th>\n",
       "      <th>text</th>\n",
       "      <th>label</th>\n",
       "    </tr>\n",
       "  </thead>\n",
       "  <tbody>\n",
       "    <tr>\n",
       "      <th>0</th>\n",
       "      <td>0</td>\n",
       "      <td>hous dem aide: didn’t even see comey’ letter j...</td>\n",
       "      <td>Darrell Lucus</td>\n",
       "      <td>hous dem aide: didn’t even see comey’ letter j...</td>\n",
       "      <td>1</td>\n",
       "    </tr>\n",
       "    <tr>\n",
       "      <th>1</th>\n",
       "      <td>1</td>\n",
       "      <td>flynn: hillari clinton, big woman campu - brei...</td>\n",
       "      <td>Daniel J. Flynn</td>\n",
       "      <td>ever get feel life circl roundabout rather hea...</td>\n",
       "      <td>0</td>\n",
       "    </tr>\n",
       "    <tr>\n",
       "      <th>2</th>\n",
       "      <td>2</td>\n",
       "      <td>truth might get fire</td>\n",
       "      <td>Consortiumnews.com</td>\n",
       "      <td>truth might get fire octob , tension intellig ...</td>\n",
       "      <td>1</td>\n",
       "    </tr>\n",
       "    <tr>\n",
       "      <th>3</th>\n",
       "      <td>3</td>\n",
       "      <td>civilian kill singl us airstrik identifi</td>\n",
       "      <td>Jessica Purkiss</td>\n",
       "      <td>video civilian kill singl us airstrik identifi...</td>\n",
       "      <td>1</td>\n",
       "    </tr>\n",
       "    <tr>\n",
       "      <th>4</th>\n",
       "      <td>4</td>\n",
       "      <td>iranian woman jail fiction unpublish stori wom...</td>\n",
       "      <td>Howard Portnoy</td>\n",
       "      <td>print iranian woman sentenc six year prison ir...</td>\n",
       "      <td>1</td>\n",
       "    </tr>\n",
       "    <tr>\n",
       "      <th>...</th>\n",
       "      <td>...</td>\n",
       "      <td>...</td>\n",
       "      <td>...</td>\n",
       "      <td>...</td>\n",
       "      <td>...</td>\n",
       "    </tr>\n",
       "    <tr>\n",
       "      <th>20795</th>\n",
       "      <td>20795</td>\n",
       "      <td>rapper t.i.: trump ’poster child white supremacy’</td>\n",
       "      <td>Jerome Hudson</td>\n",
       "      <td>rapper t. i. unload black celebr met donald tr...</td>\n",
       "      <td>0</td>\n",
       "    </tr>\n",
       "    <tr>\n",
       "      <th>20796</th>\n",
       "      <td>20796</td>\n",
       "      <td>n.f.l. playoffs: schedule, matchup odd - new y...</td>\n",
       "      <td>Benjamin Hoffman</td>\n",
       "      <td>green bay packer lost washington redskin week ...</td>\n",
       "      <td>0</td>\n",
       "    </tr>\n",
       "    <tr>\n",
       "      <th>20797</th>\n",
       "      <td>20797</td>\n",
       "      <td>macy’ said receiv takeov approach hudson’ bay ...</td>\n",
       "      <td>Michael J. de la Merced and Rachel Abrams</td>\n",
       "      <td>macy’ today grew union sever great name americ...</td>\n",
       "      <td>0</td>\n",
       "    </tr>\n",
       "    <tr>\n",
       "      <th>20798</th>\n",
       "      <td>20798</td>\n",
       "      <td>nato, russia hold parallel exercis balkan</td>\n",
       "      <td>Alex Ansary</td>\n",
       "      <td>nato, russia hold parallel exercis balkan // p...</td>\n",
       "      <td>1</td>\n",
       "    </tr>\n",
       "    <tr>\n",
       "      <th>20799</th>\n",
       "      <td>20799</td>\n",
       "      <td>keep f- aliv</td>\n",
       "      <td>David Swanson</td>\n",
       "      <td>david swanson author, activist, journalist, ra...</td>\n",
       "      <td>1</td>\n",
       "    </tr>\n",
       "  </tbody>\n",
       "</table>\n",
       "<p>20800 rows × 5 columns</p>\n",
       "</div>"
      ],
      "text/plain": [
       "          id                                              title  \\\n",
       "0          0  hous dem aide: didn’t even see comey’ letter j...   \n",
       "1          1  flynn: hillari clinton, big woman campu - brei...   \n",
       "2          2                               truth might get fire   \n",
       "3          3           civilian kill singl us airstrik identifi   \n",
       "4          4  iranian woman jail fiction unpublish stori wom...   \n",
       "...      ...                                                ...   \n",
       "20795  20795  rapper t.i.: trump ’poster child white supremacy’   \n",
       "20796  20796  n.f.l. playoffs: schedule, matchup odd - new y...   \n",
       "20797  20797  macy’ said receiv takeov approach hudson’ bay ...   \n",
       "20798  20798          nato, russia hold parallel exercis balkan   \n",
       "20799  20799                                       keep f- aliv   \n",
       "\n",
       "                                          author  \\\n",
       "0                                  Darrell Lucus   \n",
       "1                                Daniel J. Flynn   \n",
       "2                             Consortiumnews.com   \n",
       "3                                Jessica Purkiss   \n",
       "4                                 Howard Portnoy   \n",
       "...                                          ...   \n",
       "20795                              Jerome Hudson   \n",
       "20796                           Benjamin Hoffman   \n",
       "20797  Michael J. de la Merced and Rachel Abrams   \n",
       "20798                                Alex Ansary   \n",
       "20799                              David Swanson   \n",
       "\n",
       "                                                    text  label  \n",
       "0      hous dem aide: didn’t even see comey’ letter j...      1  \n",
       "1      ever get feel life circl roundabout rather hea...      0  \n",
       "2      truth might get fire octob , tension intellig ...      1  \n",
       "3      video civilian kill singl us airstrik identifi...      1  \n",
       "4      print iranian woman sentenc six year prison ir...      1  \n",
       "...                                                  ...    ...  \n",
       "20795  rapper t. i. unload black celebr met donald tr...      0  \n",
       "20796  green bay packer lost washington redskin week ...      0  \n",
       "20797  macy’ today grew union sever great name americ...      0  \n",
       "20798  nato, russia hold parallel exercis balkan // p...      1  \n",
       "20799  david swanson author, activist, journalist, ra...      1  \n",
       "\n",
       "[20800 rows x 5 columns]"
      ]
     },
     "execution_count": 44,
     "metadata": {},
     "output_type": "execute_result"
    }
   ],
   "source": [
    "data"
   ]
  },
  {
   "cell_type": "code",
   "execution_count": 45,
   "id": "1461a7ee-6ce1-4b75-a94f-a588d4a8c967",
   "metadata": {},
   "outputs": [],
   "source": [
    "X = data['text']\n",
    "Y = data['label']"
   ]
  },
  {
   "cell_type": "code",
   "execution_count": null,
   "id": "653766fd-63c9-42dc-aaff-319f7e7a8365",
   "metadata": {},
   "outputs": [],
   "source": []
  },
  {
   "cell_type": "code",
   "execution_count": null,
   "id": "eba5cbb4-fe63-4aa1-a3f6-290f215152a7",
   "metadata": {},
   "outputs": [],
   "source": []
  },
  {
   "cell_type": "code",
   "execution_count": 46,
   "id": "1f0b58a1-5e94-48cd-bdb6-43adc0cb8c7e",
   "metadata": {},
   "outputs": [
    {
     "name": "stdout",
     "output_type": "stream",
     "text": [
      "Requirement already satisfied: scikit-learn in /opt/anaconda3/lib/python3.12/site-packages (1.5.1)\n",
      "Requirement already satisfied: numpy>=1.19.5 in /opt/anaconda3/lib/python3.12/site-packages (from scikit-learn) (1.26.4)\n",
      "Requirement already satisfied: scipy>=1.6.0 in /opt/anaconda3/lib/python3.12/site-packages (from scikit-learn) (1.13.1)\n",
      "Requirement already satisfied: joblib>=1.2.0 in /opt/anaconda3/lib/python3.12/site-packages (from scikit-learn) (1.4.2)\n",
      "Requirement already satisfied: threadpoolctl>=3.1.0 in /opt/anaconda3/lib/python3.12/site-packages (from scikit-learn) (3.5.0)\n",
      "Note: you may need to restart the kernel to use updated packages.\n"
     ]
    }
   ],
   "source": [
    "pip install scikit-learn"
   ]
  },
  {
   "cell_type": "code",
   "execution_count": 47,
   "id": "f083c45b-d0f2-4970-a765-06ddd8ec631f",
   "metadata": {},
   "outputs": [],
   "source": [
    "from sklearn.model_selection import train_test_split\n",
    "X_train, X_test, Y_train, Y_test = train_test_split(X, Y, test_size=0.2)"
   ]
  },
  {
   "cell_type": "code",
   "execution_count": 48,
   "id": "294b0516-6bee-4148-bb5a-68cf2af868ca",
   "metadata": {},
   "outputs": [
    {
     "data": {
      "text/plain": [
       "(16640,)"
      ]
     },
     "execution_count": 48,
     "metadata": {},
     "output_type": "execute_result"
    }
   ],
   "source": [
    "X_train.shape"
   ]
  },
  {
   "cell_type": "code",
   "execution_count": 49,
   "id": "4a5dfac1-1de6-41ec-b5e6-a04dafce61a9",
   "metadata": {},
   "outputs": [
    {
     "data": {
      "text/plain": [
       "(4160,)"
      ]
     },
     "execution_count": 49,
     "metadata": {},
     "output_type": "execute_result"
    }
   ],
   "source": [
    "X_test.shape"
   ]
  },
  {
   "cell_type": "markdown",
   "id": "8b63c478-3657-4baf-9744-b6c37d61ea45",
   "metadata": {},
   "source": [
    "## Vectorization"
   ]
  },
  {
   "cell_type": "code",
   "execution_count": 51,
   "id": "3f841aa1-603a-4c44-8480-9a8086dee9fa",
   "metadata": {},
   "outputs": [
    {
     "data": {
      "text/plain": [
       "(4160,)"
      ]
     },
     "execution_count": 51,
     "metadata": {},
     "output_type": "execute_result"
    }
   ],
   "source": [
    "Y_test.shape"
   ]
  },
  {
   "cell_type": "code",
   "execution_count": 95,
   "id": "ca28569f-dc2e-4388-a65e-4a1b539dec2f",
   "metadata": {},
   "outputs": [],
   "source": [
    "from sklearn.feature_extraction.text import CountVectorizer, TfidfVectorizer\n",
    "\n",
    "\n",
    "vectorizer = CountVectorizer()\n",
    "vectorized_x_train = vectorizer.fit_transform(X_train)\n",
    "\n",
    "\n",
    "tfidf = TfidfVectorizer()\n",
    "vectorized_x_train = tfidf.fit_transform(X_train)\n"
   ]
  },
  {
   "cell_type": "code",
   "execution_count": 99,
   "id": "60c3a5dc-4456-4308-8376-79ae8cffc4ab",
   "metadata": {},
   "outputs": [],
   "source": [
    "vectorized_x_train = tfidf.fit_transform(X_train)\n",
    "vectorized_x_test = tfidf.transform(X_test)\n"
   ]
  },
  {
   "cell_type": "code",
   "execution_count": 105,
   "id": "9b91787a-0d84-4a81-a82f-c24b5a463310",
   "metadata": {},
   "outputs": [
    {
     "data": {
      "text/plain": [
       "<16640x151346 sparse matrix of type '<class 'numpy.float64'>'\n",
       "\twith 4502011 stored elements in Compressed Sparse Row format>"
      ]
     },
     "execution_count": 105,
     "metadata": {},
     "output_type": "execute_result"
    }
   ],
   "source": [
    "vectorized_x_train"
   ]
  },
  {
   "cell_type": "code",
   "execution_count": 107,
   "id": "ddd6bb6b-90f9-4347-a8db-b32af3268e07",
   "metadata": {},
   "outputs": [
    {
     "data": {
      "text/plain": [
       "5225     0\n",
       "13480    0\n",
       "18909    0\n",
       "18945    1\n",
       "17647    0\n",
       "        ..\n",
       "695      0\n",
       "10366    1\n",
       "18448    1\n",
       "5973     0\n",
       "19430    0\n",
       "Name: label, Length: 4160, dtype: int64"
      ]
     },
     "execution_count": 107,
     "metadata": {},
     "output_type": "execute_result"
    }
   ],
   "source": [
    "Y_test"
   ]
  },
  {
   "cell_type": "code",
   "execution_count": 109,
   "id": "4834ecad-bb22-4e6f-a30f-bd04170449b6",
   "metadata": {},
   "outputs": [
    {
     "data": {
      "text/plain": [
       "label\n",
       "1    8339\n",
       "0    8301\n",
       "Name: count, dtype: int64"
      ]
     },
     "execution_count": 109,
     "metadata": {},
     "output_type": "execute_result"
    }
   ],
   "source": [
    "Y_train.value_counts()"
   ]
  },
  {
   "cell_type": "markdown",
   "id": "bfa818b7-6d3c-411e-a93e-d4844f0cae55",
   "metadata": {},
   "source": [
    "## Already Balanced Dataset"
   ]
  },
  {
   "cell_type": "code",
   "execution_count": 116,
   "id": "ed459af9-c288-4cf9-8d99-2a52e7ae829b",
   "metadata": {},
   "outputs": [
    {
     "data": {
      "image/png": "[encoded data removed]",
      "text/plain": [
       "<Figure size 640x480 with 1 Axes>"
      ]
     },
     "metadata": {},
     "output_type": "display_data"
    }
   ],
   "source": [
    "plt.pie(np.array([Y_train.value_counts()[0], Y_train.value_counts()[1]]), labels=['Negative', 'Positive'])\n",
    "plt.show()"
   ]
  },
  {
   "cell_type": "code",
   "execution_count": 118,
   "id": "043da332-598f-4940-9481-827aaa23bdf2",
   "metadata": {},
   "outputs": [
    {
     "data": {
      "text/plain": [
       "7063     1\n",
       "660      0\n",
       "4821     0\n",
       "13561    1\n",
       "11057    1\n",
       "        ..\n",
       "6676     1\n",
       "1590     1\n",
       "16953    1\n",
       "9640     1\n",
       "18186    1\n",
       "Name: label, Length: 16640, dtype: int64"
      ]
     },
     "execution_count": 118,
     "metadata": {},
     "output_type": "execute_result"
    }
   ],
   "source": [
    "Y_train"
   ]
  },
  {
   "cell_type": "code",
   "execution_count": 122,
   "id": "b4c74b8e-44aa-41a1-a906-04c7102169a8",
   "metadata": {},
   "outputs": [
    {
     "data": {
      "text/plain": [
       "<16640x151346 sparse matrix of type '<class 'numpy.float64'>'\n",
       "\twith 4502011 stored elements in Compressed Sparse Row format>"
      ]
     },
     "execution_count": 122,
     "metadata": {},
     "output_type": "execute_result"
    }
   ],
   "source": [
    "vectorized_x_train"
   ]
  },
  {
   "cell_type": "code",
   "execution_count": 124,
   "id": "264ba5e7-e9b0-4516-9b83-aeb38ae5c5d0",
   "metadata": {},
   "outputs": [
    {
     "data": {
      "text/plain": [
       "<4160x151346 sparse matrix of type '<class 'numpy.float64'>'\n",
       "\twith 1093940 stored elements in Compressed Sparse Row format>"
      ]
     },
     "execution_count": 124,
     "metadata": {},
     "output_type": "execute_result"
    }
   ],
   "source": [
    "vectorized_x_test"
   ]
  },
  {
   "cell_type": "code",
   "execution_count": 126,
   "id": "6e096b16-e1f0-4671-9e69-0ba46045d753",
   "metadata": {},
   "outputs": [
    {
     "data": {
      "text/plain": [
       "5225     0\n",
       "13480    0\n",
       "18909    0\n",
       "18945    1\n",
       "17647    0\n",
       "        ..\n",
       "695      0\n",
       "10366    1\n",
       "18448    1\n",
       "5973     0\n",
       "19430    0\n",
       "Name: label, Length: 4160, dtype: int64"
      ]
     },
     "execution_count": 126,
     "metadata": {},
     "output_type": "execute_result"
    }
   ],
   "source": [
    "Y_test"
   ]
  },
  {
   "cell_type": "markdown",
   "id": "bd97304b-4eaa-44dc-8d85-7a004361a111",
   "metadata": {},
   "source": [
    "## Model Training and Evaluation"
   ]
  },
  {
   "cell_type": "code",
   "execution_count": 133,
   "id": "5c6ee7f2-fb66-4dfb-a990-a5b925f0f48d",
   "metadata": {},
   "outputs": [],
   "source": [
    "from sklearn.linear_model import LogisticRegression\n",
    "from sklearn.naive_bayes import MultinomialNB       \n",
    "from sklearn.tree import DecisionTreeClassifier     \n",
    "from sklearn.ensemble import RandomForestClassifier\n",
    "from sklearn.svm import SVC"
   ]
  },
  {
   "cell_type": "code",
   "execution_count": 139,
   "id": "ae886f2d-4f95-42ff-87b7-40bb7aac2d41",
   "metadata": {},
   "outputs": [],
   "source": [
    "from sklearn.metrics import accuracy_score, f1_score, precision_score, recall_score\n",
    "\n",
    "def training_scores(y_act, y_pred):\n",
    "    acc = round(accuracy_score(y_act, y_pred), 3)\n",
    "    pr = round(precision_score(y_act, y_pred), 3)\n",
    "    rec = round(recall_score(y_act, y_pred), 3)\n",
    "    f1 = round(f1_score(y_act, y_pred), 3)\n",
    "    \n",
    "    print(f\"Training Scores:\\n\\tAccuracy = {acc}\\n\\tPrecision = {pr}\\n\\tRecall = {rec}\\n\\tF1-Score = {f1}\")\n",
    "\n",
    "def validation_scores(y_act, y_pred):\n",
    "    acc = round(accuracy_score(y_act, y_pred), 3)\n",
    "    pr = round(precision_score(y_act, y_pred), 3)\n",
    "    rec = round(recall_score(y_act, y_pred), 3)\n",
    "    f1 = round(f1_score(y_act, y_pred), 3)\n",
    "    \n",
    "    print(f\"Validation Scores:\\n\\tAccuracy = {acc}\\n\\tPrecision = {pr}\\n\\tRecall = {rec}\\n\\tF1-Score = {f1}\")\n"
   ]
  },
  {
   "cell_type": "markdown",
   "id": "2442142f-9328-4218-ba89-99703b92dc37",
   "metadata": {},
   "source": [
    "## Logistic Regression"
   ]
  },
  {
   "cell_type": "code",
   "execution_count": 165,
   "id": "046cee5e-f65c-4ece-a869-d07e4ae624be",
   "metadata": {},
   "outputs": [
    {
     "name": "stdout",
     "output_type": "stream",
     "text": [
      "Training Scores:\n",
      "\tAccuracy = 0.974\n",
      "\tPrecision = 0.969\n",
      "\tRecall = 0.978\n",
      "\tF1-Score = 0.974\n",
      "Validation Scores:\n",
      "\tAccuracy = 0.948\n",
      "\tPrecision = 0.942\n",
      "\tRecall = 0.953\n",
      "\tF1-Score = 0.948\n"
     ]
    }
   ],
   "source": [
    "lr = LogisticRegression()\n",
    "lr.fit(vectorized_x_train, Y_train)\n",
    "\n",
    "Y_train_pred = lr.predict(vectorized_x_train)\n",
    "\n",
    "Y_test_pred = lr.predict(vectorized_x_test)\n",
    "\n",
    "training_scores(Y_train, Y_train_pred)\n",
    "\n",
    "validation_scores(Y_test, Y_test_pred)"
   ]
  },
  {
   "cell_type": "markdown",
   "id": "07145444-3bbf-4dc7-98d8-36d4d2559051",
   "metadata": {},
   "source": [
    "## Naive Bayes"
   ]
  },
  {
   "cell_type": "code",
   "execution_count": 167,
   "id": "c2eb2ea8-f979-444a-899c-86b031835ad6",
   "metadata": {},
   "outputs": [
    {
     "name": "stdout",
     "output_type": "stream",
     "text": [
      "Training Scores:\n",
      "\tAccuracy = 0.904\n",
      "\tPrecision = 0.992\n",
      "\tRecall = 0.815\n",
      "\tF1-Score = 0.895\n",
      "Validation Scores:\n",
      "\tAccuracy = 0.863\n",
      "\tPrecision = 0.986\n",
      "\tRecall = 0.735\n",
      "\tF1-Score = 0.842\n"
     ]
    }
   ],
   "source": [
    "mnb = MultinomialNB()\n",
    "mnb.fit(vectorized_x_train, Y_train)\n",
    "\n",
    "Y_train_pred = mnb.predict(vectorized_x_train)\n",
    "\n",
    "Y_test_pred = mnb.predict(vectorized_x_test)\n",
    "\n",
    "training_scores(Y_train, Y_train_pred)\n",
    "\n",
    "validation_scores(Y_test, Y_test_pred)"
   ]
  },
  {
   "cell_type": "markdown",
   "id": "c637d9a3-cff2-4408-9bae-17b0cbf07906",
   "metadata": {},
   "source": [
    "## DEsicion Tree"
   ]
  },
  {
   "cell_type": "code",
   "execution_count": 170,
   "id": "a075247e-6e7a-4053-9931-e814f5caff1a",
   "metadata": {},
   "outputs": [
    {
     "name": "stdout",
     "output_type": "stream",
     "text": [
      "Training Scores:\n",
      "\tAccuracy = 1.0\n",
      "\tPrecision = 1.0\n",
      "\tRecall = 1.0\n",
      "\tF1-Score = 1.0\n",
      "Validation Scores:\n",
      "\tAccuracy = 0.884\n",
      "\tPrecision = 0.884\n",
      "\tRecall = 0.883\n",
      "\tF1-Score = 0.884\n"
     ]
    }
   ],
   "source": [
    "dt = DecisionTreeClassifier()\n",
    "dt.fit(vectorized_x_train, Y_train)\n",
    "\n",
    "Y_train_pred = dt.predict(vectorized_x_train)\n",
    "\n",
    "Y_test_pred = dt.predict(vectorized_x_test)\n",
    "\n",
    "training_scores(Y_train, Y_train_pred)\n",
    "\n",
    "validation_scores(Y_test, Y_test_pred)"
   ]
  },
  {
   "cell_type": "markdown",
   "id": "d76f3e71-59f1-4307-aa01-e0645d317fa2",
   "metadata": {},
   "source": [
    "## Random Forest"
   ]
  },
  {
   "cell_type": "code",
   "execution_count": 173,
   "id": "ea4a0453-fab1-420c-b6c6-9258f661a681",
   "metadata": {},
   "outputs": [
    {
     "name": "stdout",
     "output_type": "stream",
     "text": [
      "Training Scores:\n",
      "\tAccuracy = 1.0\n",
      "\tPrecision = 1.0\n",
      "\tRecall = 1.0\n",
      "\tF1-Score = 1.0\n",
      "Validation Scores:\n",
      "\tAccuracy = 0.913\n",
      "\tPrecision = 0.939\n",
      "\tRecall = 0.883\n",
      "\tF1-Score = 0.91\n"
     ]
    }
   ],
   "source": [
    "rf = RandomForestClassifier()\n",
    "rf.fit(vectorized_x_train, Y_train)\n",
    "\n",
    "Y_train_pred = rf.predict(vectorized_x_train)\n",
    "\n",
    "Y_test_pred = rf.predict(vectorized_x_test)\n",
    "\n",
    "training_scores(Y_train, Y_train_pred)\n",
    "\n",
    "validation_scores(Y_test, Y_test_pred)"
   ]
  },
  {
   "cell_type": "markdown",
   "id": "4f2d797e-4c66-45c2-9f01-5f91e7020cbe",
   "metadata": {},
   "source": [
    "## Support Vector Machine"
   ]
  },
  {
   "cell_type": "code",
   "execution_count": 176,
   "id": "70d4aecb-0384-4196-bf06-46356bdd855d",
   "metadata": {},
   "outputs": [
    {
     "name": "stdout",
     "output_type": "stream",
     "text": [
      "Training Scores:\n",
      "\tAccuracy = 0.999\n",
      "\tPrecision = 0.999\n",
      "\tRecall = 0.999\n",
      "\tF1-Score = 0.999\n",
      "Validation Scores:\n",
      "\tAccuracy = 0.96\n",
      "\tPrecision = 0.957\n",
      "\tRecall = 0.962\n",
      "\tF1-Score = 0.96\n"
     ]
    }
   ],
   "source": [
    "svm = SVC()\n",
    "svm.fit(vectorized_x_train, Y_train)\n",
    "\n",
    "Y_train_pred = svm.predict(vectorized_x_train)\n",
    "\n",
    "Y_test_pred = svm.predict(vectorized_x_test)\n",
    "\n",
    "training_scores(Y_train, Y_train_pred)\n",
    "\n",
    "validation_scores(Y_test, Y_test_pred)"
   ]
  },
  {
   "cell_type": "code",
   "execution_count": 178,
   "id": "750f1e55-840b-4508-b093-e40883f1abfb",
   "metadata": {},
   "outputs": [],
   "source": [
    "import pickle\n",
    "\n",
    "with open('../static/model/model.pickle', 'wb') as file:\n",
    "    pickle.dump(lr, file)"
   ]
  },
  {
   "cell_type": "code",
   "execution_count": null,
   "id": "6823c65c-ad30-43a4-ab06-9c7e8001878f",
   "metadata": {},
   "outputs": [],
   "source": []
  }
 ],
 "metadata": {
  "kernelspec": {
   "display_name": "Python [conda env:base] *",
   "language": "python",
   "name": "conda-base-py"
  },
  "language_info": {
   "codemirror_mode": {
    "name": "ipython",
    "version": 3
   },
   "file_extension": ".py",
   "mimetype": "text/x-python",
   "name": "python",
   "nbconvert_exporter": "python",
   "pygments_lexer": "ipython3",
   "version": "3.12.7"
  }
 },
 "nbformat": 4,
 "nbformat_minor": 5
}
